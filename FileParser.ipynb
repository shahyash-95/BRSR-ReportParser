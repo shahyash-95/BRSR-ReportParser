{
 "cells": [
  {
   "cell_type": "code",
   "execution_count": 1,
   "id": "d6da5139",
   "metadata": {
    "scrolled": true
   },
   "outputs": [],
   "source": [
    "from PyPDF2 import PdfFileReader\n",
    "import pandas as pd\n",
    "import numpy as np\n",
    "import camelot\n",
    "import tabula"
   ]
  },
  {
   "cell_type": "code",
   "execution_count": 13,
   "id": "d9b8a82d",
   "metadata": {},
   "outputs": [],
   "source": [
    "file_path = \"ABB-BRSR Report.pdf\"\n",
    "pdf_file = open(file_path,\"rb\")"
   ]
  },
  {
   "cell_type": "code",
   "execution_count": 14,
   "id": "38dcd97e",
   "metadata": {},
   "outputs": [],
   "source": [
    "reader = PdfFileReader(pdf_file, strict=False)"
   ]
  },
  {
   "cell_type": "code",
   "execution_count": 16,
   "id": "999ec5f9",
   "metadata": {},
   "outputs": [
    {
     "name": "stdout",
     "output_type": "stream",
     "text": [
      "42\n"
     ]
    }
   ],
   "source": [
    "num_pages = reader.numPages\n",
    "print(num_pages)"
   ]
  },
  {
   "cell_type": "code",
   "execution_count": 22,
   "id": "68631a59",
   "metadata": {},
   "outputs": [],
   "source": [
    "## list of Sections to get search pattern and extract tables section wise\n",
    "#hdfc sections\n",
    "#sections = ['SECTION A: GENERAL DISCLOSURES','SECTION B: MANAGEMENT AND PROCESS DISCLOSURES','SECTION C: PRINCIPLE-WISE PERFORMANCE DISCLOSURE']\n",
    "#abb sections\n",
    "sections = ['SECTION A: GENERAL DISCLOSURES','SECTION B: MANAGEMENT AND PROCESS DISCLOSURES','SECTION C: PRINCIPLE WISE PERFORMANCE DISCLOSURE']"
   ]
  },
  {
   "cell_type": "code",
   "execution_count": 23,
   "id": "7e2e904a",
   "metadata": {},
   "outputs": [],
   "source": [
    "##Find page number in pdf using search pattern\n",
    "\n",
    "\n",
    "def fnPDF_FindText(xString, startPage):\n",
    "    # xfile : the PDF file in which to look\n",
    "    # xString : the string to look for\n",
    "    import re\n",
    "    PageFound = -1\n",
    "    #pdfDoc = PdfFileReader(file(xFile, \"rb\"))\n",
    "    for i in range(startPage, num_pages):\n",
    "        PgOb = reader.getPage(i)\n",
    "        Text = PgOb.extractText()\n",
    "        if re.search(xString,Text):\n",
    "             print(\"String - \"+xString+\", found on Page: \"+str(i))\n",
    "             PageFound = i   \n",
    "             return PageFound"
   ]
  },
  {
   "cell_type": "code",
   "execution_count": 24,
   "id": "296a7fc5",
   "metadata": {},
   "outputs": [
    {
     "name": "stdout",
     "output_type": "stream",
     "text": [
      "Start Search for section SECTION A: GENERAL DISCLOSURES\n",
      "String - SECTION A: GENERAL DISCLOSURES, found on Page: 3\n",
      "Start Search for section SECTION B: MANAGEMENT AND PROCESS DISCLOSURES\n",
      "String - SECTION B: MANAGEMENT AND PROCESS DISCLOSURES, found on Page: 9\n",
      "Start Search for section SECTION C: PRINCIPLE WISE PERFORMANCE DISCLOSURE\n",
      "String - SECTION C: PRINCIPLE WISE PERFORMANCE DISCLOSURE, found on Page: 10\n",
      "[3, 9, 10, 42]\n"
     ]
    }
   ],
   "source": [
    "## Get All Pages for each Section\n",
    "section_pages = []\n",
    "section_pages.append(3)\n",
    "for i in range(0,len(sections)):\n",
    "    \n",
    "    start_search_string = sections[i]\n",
    "    print('Start Search for section '+start_search_string)\n",
    "    start_page = fnPDF_FindText(start_search_string,section_pages[i])\n",
    "    section_pages.append(start_page)\n",
    "\n",
    "    \n",
    "section_pages.append(num_pages)\n",
    "#remove duplicates\n",
    "section_pages = [*set(section_pages)]\n",
    "#sort in ascending order\n",
    "section_pages.sort()\n",
    "print(section_pages)"
   ]
  },
  {
   "cell_type": "code",
   "execution_count": 25,
   "id": "4a99e59d",
   "metadata": {},
   "outputs": [
    {
     "name": "stdout",
     "output_type": "stream",
     "text": [
      "2\n",
      "6\n"
     ]
    }
   ],
   "source": [
    "## test report\n",
    "test_res = camelot.read_pdf(file_path,pages='3-9')\n",
    "print(len(test_res))\n",
    "\n",
    "test_tab_res = tabula.read_pdf(file_path,pages='3-9')\n",
    "print(len(test_tab_res))\n",
    "\n"
   ]
  },
  {
   "cell_type": "code",
   "execution_count": 26,
   "id": "2b430721",
   "metadata": {},
   "outputs": [
    {
     "name": "stdout",
     "output_type": "stream",
     "text": [
      "Extract for SECTION A: GENERAL DISCLOSURES\n",
      "2\n",
      "Extract for SECTION B: MANAGEMENT AND PROCESS DISCLOSURES\n",
      "2\n",
      "Extract for SECTION C: PRINCIPLE WISE PERFORMANCE DISCLOSURE\n",
      "2\n"
     ]
    }
   ],
   "source": [
    "#companyData = reader.getPage(3).extractText()\n",
    "#print(companyData)\n",
    "\n",
    "### Get data usig tables\n",
    "for i in range(len(section_pages)-1):\n",
    "    print('Extract for '+ sections[i])\n",
    "    section_tables = camelot.read_pdf(file_path,pages=str(section_pages[i])+'-'+str(section_pages[i+1]))\n",
    "    print(len(section_tables))\n",
    "    output_file =  file_path[:file_path.find('.')] + '_'+ sections[i][: sections[i].find(':')]\n",
    "    section_tables.export(output_file+'_camelot',f='csv',compress=True)\n",
    "    tabula.convert_into(file_path, output_file+'_tabula.csv', output_format=\"csv\", pages=list(range(section_pages[i],section_pages[i+1]+1)))"
   ]
  },
  {
   "cell_type": "code",
   "execution_count": 66,
   "id": "a2af6241",
   "metadata": {},
   "outputs": [],
   "source": [
    "## use tabula py to extract all Section A tables in csv\n",
    "\n"
   ]
  },
  {
   "cell_type": "markdown",
   "id": "adb5bef7",
   "metadata": {},
   "source": [
    "## Get Employee Details - Table"
   ]
  },
  {
   "cell_type": "code",
   "execution_count": 43,
   "id": "68ad5d2f",
   "metadata": {},
   "outputs": [
    {
     "data": {
      "text/html": [
       "<div>\n",
       "<style scoped>\n",
       "    .dataframe tbody tr th:only-of-type {\n",
       "        vertical-align: middle;\n",
       "    }\n",
       "\n",
       "    .dataframe tbody tr th {\n",
       "        vertical-align: top;\n",
       "    }\n",
       "\n",
       "    .dataframe thead th {\n",
       "        text-align: right;\n",
       "    }\n",
       "</style>\n",
       "<table border=\"1\" class=\"dataframe\">\n",
       "  <thead>\n",
       "    <tr style=\"text-align: right;\">\n",
       "      <th></th>\n",
       "      <th>0</th>\n",
       "    </tr>\n",
       "  </thead>\n",
       "  <tbody>\n",
       "    <tr>\n",
       "      <th>0</th>\n",
       "      <td>Male\\nFemale\\nS. \\nParticulars\\nTotal (A)\\nNo....</td>\n",
       "    </tr>\n",
       "    <tr>\n",
       "      <th>1</th>\n",
       "      <td></td>\n",
       "    </tr>\n",
       "    <tr>\n",
       "      <th>2</th>\n",
       "      <td>EMPLOYEES</td>\n",
       "    </tr>\n",
       "    <tr>\n",
       "      <th>3</th>\n",
       "      <td>1.\\nPermanent (D)\\n3,226\\n2,399\\n74\\n    827\\n26</td>\n",
       "    </tr>\n",
       "    <tr>\n",
       "      <th>4</th>\n",
       "      <td>2.\\nOther than permanent (E)\\n2,264\\n1,120\\n49...</td>\n",
       "    </tr>\n",
       "    <tr>\n",
       "      <th>5</th>\n",
       "      <td>3.\\nTotal employees (D + E)\\n5,490\\n3,519\\n64\\...</td>\n",
       "    </tr>\n",
       "  </tbody>\n",
       "</table>\n",
       "</div>"
      ],
      "text/plain": [
       "                                                   0\n",
       "0  Male\\nFemale\\nS. \\nParticulars\\nTotal (A)\\nNo....\n",
       "1                                                   \n",
       "2                                          EMPLOYEES\n",
       "3   1.\\nPermanent (D)\\n3,226\\n2,399\\n74\\n    827\\n26\n",
       "4  2.\\nOther than permanent (E)\\n2,264\\n1,120\\n49...\n",
       "5  3.\\nTotal employees (D + E)\\n5,490\\n3,519\\n64\\..."
      ]
     },
     "execution_count": 43,
     "metadata": {},
     "output_type": "execute_result"
    }
   ],
   "source": [
    "## use camelot\n",
    "#reads table from pdf file -- need to extract by providing specific areas\n",
    "employeeDetails = camelot.read_pdf(file_path,pages='6')\n",
    "employeeDetails[0].df\n"
   ]
  },
  {
   "cell_type": "markdown",
   "id": "295acfb9",
   "metadata": {},
   "source": [
    "## Get CSR Details - Text"
   ]
  },
  {
   "cell_type": "code",
   "execution_count": 44,
   "id": "a27b6f87",
   "metadata": {},
   "outputs": [
    {
     "name": "stdout",
     "output_type": "stream",
     "text": [
      "VI. CSR Details\n",
      "22. (i) Whether CSR is applicable as per section 135 of Companies Act, 2013:  Yes  (ii) Turnover: ` 48,176 crore (iii) Net worth:  ` 1,08,783 crore (iv) Total amount spent on CSR for FY21:  ` 190 crore\n",
      "\n",
      "48176\n",
      "Entering csr calculation\n",
      "190\n",
      "Total CSR-Turnover Ratio\n",
      "0.003943872467618731\n"
     ]
    }
   ],
   "source": [
    "page_6_dt = reader.getPage(6).extractText()\n",
    "csrdetails_idx=page_6_dt.find('VI. CSR Details')\n",
    "compliance_idx=page_6_dt.find('VII. Transparency and Disclosures Compliance')\n",
    "csrDetails = (page_6_dt[csrdetails_idx:compliance_idx])\n",
    "print(csrDetails)\n",
    "\n",
    "check_str='Whether CSR is applicable as per section 135 of Companies Act, 2013:'\n",
    "isCSRApplyIndex = csrDetails.find(check_str)\n",
    "csrFlag = csrDetails[isCSRApplyIndex+len(check_str)+2:isCSRApplyIndex+len(check_str)+5]\n",
    "turnover_idx = csrDetails.find('(ii) Turnover: ` ')\n",
    "turnover_amt_idx = csrDetails.find('crore',turnover_idx)\n",
    "turnover_amt = csrDetails[turnover_idx+len('(ii) Turnover: ` '):turnover_amt_idx]\n",
    "turnover_amt = int(turnover_amt.replace(',',''))\n",
    "print(turnover_amt)\n",
    "    \n",
    "if(csrFlag.strip()=='Yes'):\n",
    "    ## calculate csr amount\n",
    "    print('Entering csr calculation')\n",
    "    csr_text= '(iv) Total amount spent on CSR for FY21:  ` '\n",
    "    csr_idx = csrDetails.find(csr_text)\n",
    "    csr_amt_idx = csrDetails.find('crore',csr_idx)\n",
    "    csr_amt = csrDetails[csr_idx+len(csr_text):csr_amt_idx]\n",
    "    csr_amt = int(csr_amt.replace(',',''))\n",
    "    print(csr_amt)\n",
    "    print('Total CSR-Turnover Ratio')\n",
    "    print(csr_amt/turnover_amt)\n",
    "else:\n",
    "    print('no csr')"
   ]
  },
  {
   "cell_type": "markdown",
   "id": "3ca849f1",
   "metadata": {},
   "source": [
    "### Calulcate Green house gas emissions"
   ]
  },
  {
   "cell_type": "code",
   "execution_count": 45,
   "id": "5056b515",
   "metadata": {},
   "outputs": [
    {
     "name": "stdout",
     "output_type": "stream",
     "text": [
      "                                                   0  \\\n",
      "0                                         Parameter*   \n",
      "1  Total Scope 1 emissions (Break-up of the GHG i...   \n",
      "2  Total Scope 2 emissions (Break-up of the GHG i...   \n",
      "\n",
      "                                    1        2        3  \n",
      "0                                Unit     FY21     FY20  \n",
      "1  Metric tonnes  of \\nCO2 equivalent    966.1  1,340.1  \n",
      "2  Metric tonnes  of \\nCO2 equivalent  2,684.1  2,864.6  \n"
     ]
    }
   ],
   "source": [
    "envDetails = camelot.read_pdf(file_path,pages='29')\n",
    "electrictyConsumption = envDetails[0].df\n",
    "greenhousegases = envDetails[1].df\n",
    "print(greenhousegases.head())"
   ]
  },
  {
   "cell_type": "code",
   "execution_count": 46,
   "id": "7e6cd004",
   "metadata": {},
   "outputs": [],
   "source": [
    "pdf_file.close()"
   ]
  },
  {
   "cell_type": "code",
   "execution_count": null,
   "id": "44d439eb",
   "metadata": {},
   "outputs": [],
   "source": []
  }
 ],
 "metadata": {
  "kernelspec": {
   "display_name": "Python 3 (ipykernel)",
   "language": "python",
   "name": "python3"
  },
  "language_info": {
   "codemirror_mode": {
    "name": "ipython",
    "version": 3
   },
   "file_extension": ".py",
   "mimetype": "text/x-python",
   "name": "python",
   "nbconvert_exporter": "python",
   "pygments_lexer": "ipython3",
   "version": "3.8.13"
  }
 },
 "nbformat": 4,
 "nbformat_minor": 5
}
