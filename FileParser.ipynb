{
 "cells": [
  {
   "cell_type": "code",
   "execution_count": null,
   "id": "d6da5139",
   "metadata": {
    "scrolled": true
   },
   "outputs": [],
   "source": [
    "from PyPDF2 import PdfFileReader\n",
    "import pandas as pd\n",
    "import numpy as np\n",
    "import camelot\n",
    "import tabula\n",
    "\n",
    "import ctypes\n",
    "from ctypes.util import find_library\n",
    "find_library(\"\".join((\"gsdll\", str(ctypes.sizeof(ctypes.c_voidp) * 8), \".dll\")))"
   ]
  },
  {
   "cell_type": "code",
   "execution_count": null,
   "id": "d9b8a82d",
   "metadata": {},
   "outputs": [],
   "source": [
    "file_path = \"ABB-BRSR Report.pdf\"\n",
    "# file_path = \"hdfc-report.pdf\"\n",
    "pdf_file = open(file_path,\"rb\")"
   ]
  },
  {
   "cell_type": "code",
   "execution_count": null,
   "id": "38dcd97e",
   "metadata": {},
   "outputs": [],
   "source": [
    "reader = PdfFileReader(pdf_file, strict=False)\n",
    "\n",
    "num_pages = reader.numPages\n",
    "print(num_pages)\n",
    "print(reader.getPage(3))"
   ]
  },
  {
   "cell_type": "code",
   "execution_count": null,
   "id": "68631a59",
   "metadata": {},
   "outputs": [],
   "source": [
    "## list of Sections to get search pattern and extract tables section wise\n",
    "#hdfc sections\n",
    "#sections = ['SECTION A: GENERAL DISCLOSURES','SECTION B: MANAGEMENT AND PROCESS DISCLOSURES','SECTION C: PRINCIPLE-WISE PERFORMANCE DISCLOSURE']\n",
    "#abb sections\n",
    "sections = ['GENERAL DISCLOSURES','MANAGEMENT AND PROCESS DISCLOSURES','PRINCIPLE WISE PERFORMANCE DISCLOSURE']"
   ]
  },
  {
   "cell_type": "code",
   "execution_count": null,
   "id": "7e2e904a",
   "metadata": {},
   "outputs": [],
   "source": [
    "##Find page number in pdf using search pattern\n",
    "\n",
    "\n",
    "def fnPDF_FindText(xString, startPage, endPage):\n",
    "    # xfile : the PDF file in which to look\n",
    "    # xString : the string to look for\n",
    "    import re\n",
    "    PageFound = -1\n",
    "    #pdfDoc = PdfFileReader(file(xFile, \"rb\"))\n",
    "    for i in range(startPage, endPage):\n",
    "        PgOb = reader.getPage(i)\n",
    "        Text = PgOb.extractText()\n",
    "        if re.search(xString,Text):\n",
    "             print(\"String - \"+xString+\", found on Page: \"+str(i))\n",
    "             PageFound = i\n",
    "             break\n",
    "    return PageFound"
   ]
  },
  {
   "cell_type": "code",
   "execution_count": null,
   "id": "296a7fc5",
   "metadata": {},
   "outputs": [],
   "source": [
    "## Get All Pages for each Section\n",
    "section_pages = []\n",
    "# section_pages.append(-1)\n",
    "start_page=0\n",
    "for i in range(0,len(sections)):\n",
    "    start_search_string = sections[i]\n",
    "    print('Start Search for section '+start_search_string)\n",
    "    start_page = fnPDF_FindText(start_search_string,start_page,num_pages)\n",
    "    if start_page != -1:\n",
    "        section_pages.append(start_page)    \n",
    "# section_pages.append(num_pages)\n",
    "if len(section_pages) > 0:\n",
    "    #remove duplicates\n",
    "    section_pages = [*set(section_pages)]\n",
    "    #sort in ascending order\n",
    "    section_pages.sort()\n",
    "print(section_pages)"
   ]
  },
  {
   "cell_type": "code",
   "execution_count": null,
   "id": "4a99e59d",
   "metadata": {
    "scrolled": true
   },
   "outputs": [],
   "source": [
    "## test report\n",
    "test_res = camelot.read_pdf(file_path,pages='1-10')\n",
    "print(len(test_res))\n",
    "\n",
    "test_tab_res = tabula.read_pdf(file_path,pages='1-9')\n",
    "print(len(test_tab_res))\n",
    "\n"
   ]
  },
  {
   "cell_type": "code",
   "execution_count": null,
   "id": "2b430721",
   "metadata": {},
   "outputs": [],
   "source": [
    "#companyData = reader.getPage(3).extractText()\n",
    "#print(companyData)\n",
    "\n",
    "### Get data usig tables\n",
    "for i in range(len(section_pages)):\n",
    "    print('Extract for '+ sections[i])\n",
    "    endPageNum = section_pages[i]\n",
    "    if i == len(section_pages)-1:\n",
    "        endPageNum = num_pages\n",
    "    else:\n",
    "        endPageNum = section_pages[i+1]\n",
    "    section_tables = camelot.read_pdf(file_path,pages=str(section_pages[i])+'-'+str(endPageNum))\n",
    "    print(len(section_tables))\n",
    "    output_file =  file_path[:file_path.find('.')] + '_'+ sections[i][: sections[i].find(':')]\n",
    "    section_tables.export(output_file+'_camelot',f='csv',compress=True)\n",
    "    tabula.convert_into(file_path, output_file+'_tabula.csv', output_format=\"csv\", pages=list(range(section_pages[i],endPageNum)))"
   ]
  },
  {
   "cell_type": "code",
   "execution_count": null,
   "id": "a2af6241",
   "metadata": {},
   "outputs": [],
   "source": [
    "## use tabula py to extract all Section A tables in csv\n",
    "\n"
   ]
  },
  {
   "cell_type": "markdown",
   "id": "adb5bef7",
   "metadata": {},
   "source": [
    "## Get Employee Details - Table"
   ]
  },
  {
   "cell_type": "code",
   "execution_count": null,
   "id": "68ad5d2f",
   "metadata": {},
   "outputs": [],
   "source": [
    "## use camelot\n",
    "#reads table from pdf file -- need to extract by providing specific areas\n",
    "employeeDetails = camelot.read_pdf(file_path,pages='3')\n",
    "# employeeDetails[0].df\n"
   ]
  },
  {
   "cell_type": "markdown",
   "id": "295acfb9",
   "metadata": {},
   "source": [
    "## Get CSR Details - Text"
   ]
  },
  {
   "cell_type": "code",
   "execution_count": null,
   "id": "a27b6f87",
   "metadata": {},
   "outputs": [],
   "source": [
    "page_6_dt = reader.getPage(6).extractText()\n",
    "csrdetails_idx=page_6_dt.find('VI. CSR Details')\n",
    "compliance_idx=page_6_dt.find('VII. Transparency and Disclosures Compliance')\n",
    "csrDetails = (page_6_dt[csrdetails_idx:compliance_idx])\n",
    "print(csrDetails)\n",
    "\n",
    "check_str='Whether CSR is applicable as per section 135 of Companies Act, 2013:'\n",
    "isCSRApplyIndex = csrDetails.find(check_str)\n",
    "csrFlag = csrDetails[isCSRApplyIndex+len(check_str)+2:isCSRApplyIndex+len(check_str)+5]\n",
    "turnover_idx = csrDetails.find('(ii) Turnover: ` ')\n",
    "turnover_amt_idx = csrDetails.find('crore',turnover_idx)\n",
    "turnover_amt = csrDetails[turnover_idx+len('(ii) Turnover: ` '):turnover_amt_idx]\n",
    "print(turnover_amt)\n",
    "    \n",
    "if(csrFlag.strip()=='Yes'):\n",
    "    ## calculate csr amount\n",
    "    print('Entering csr calculation')\n",
    "    csr_text= '(iv) Total amount spent on CSR for FY21:  ` '\n",
    "    csr_idx = csrDetails.find(csr_text)\n",
    "    csr_amt_idx = csrDetails.find('crore',csr_idx)\n",
    "    csr_amt = csrDetails[csr_idx+len(csr_text):csr_amt_idx]\n",
    "    csr_amt = int(csr_amt.replace(',',''))\n",
    "    print(csr_amt)\n",
    "    print('Total CSR-Turnover Ratio')\n",
    "    turnover_amt = int(turnover_amt.replace(',',''))\n",
    "    print(csr_amt/turnover_amt)\n",
    "else:\n",
    "    print('no csr')"
   ]
  },
  {
   "cell_type": "markdown",
   "id": "3ca849f1",
   "metadata": {},
   "source": [
    "### Calulcate Green house gas emissions"
   ]
  },
  {
   "cell_type": "code",
   "execution_count": null,
   "id": "5056b515",
   "metadata": {},
   "outputs": [],
   "source": [
    "envDetails = camelot.read_pdf(file_path,pages='9')\n",
    "electrictyConsumption = envDetails[0].df\n",
    "greenhousegases = envDetails[1].df\n",
    "print(greenhousegases.head())"
   ]
  },
  {
   "cell_type": "code",
   "execution_count": null,
   "id": "7e6cd004",
   "metadata": {},
   "outputs": [],
   "source": [
    "pdf_file.close()"
   ]
  }
 ],
 "metadata": {
  "kernelspec": {
   "display_name": "Python 3 (ipykernel)",
   "language": "python",
   "name": "python3"
  },
  "language_info": {
   "codemirror_mode": {
    "name": "ipython",
    "version": 3
   },
   "file_extension": ".py",
   "mimetype": "text/x-python",
   "name": "python",
   "nbconvert_exporter": "python",
   "pygments_lexer": "ipython3",
   "version": "3.9.12"
  }
 },
 "nbformat": 4,
 "nbformat_minor": 5
}
