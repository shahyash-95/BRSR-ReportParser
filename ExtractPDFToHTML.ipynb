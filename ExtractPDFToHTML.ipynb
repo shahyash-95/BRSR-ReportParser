{
 "cells": [
  {
   "cell_type": "code",
   "execution_count": null,
   "id": "a929a671",
   "metadata": {},
   "outputs": [],
   "source": [
    "from pprint import pprint\n",
    "from io import StringIO\n",
    "import re\n",
    "from pdfminer.high_level import extract_text_to_fp\n",
    "from pdfminer.layout import LAParams\n",
    "from lxml import html"
   ]
  },
  {
   "cell_type": "code",
   "execution_count": null,
   "id": "d22cfd57",
   "metadata": {},
   "outputs": [],
   "source": [
    "ID_LEFT_BORDER = 56\n",
    "ID_RIGHT_BORDER = 156\n",
    "QTY_LEFT_BORDER = 355\n",
    "QTY_RIGHT_BORDER = 455"
   ]
  },
  {
   "cell_type": "code",
   "execution_count": null,
   "id": "3ed74c13",
   "metadata": {
    "scrolled": true
   },
   "outputs": [],
   "source": [
    "# Read PDF file and convert it to HTML\n",
    "output = StringIO()\n",
    "# with open('ABB-BRSR Report.pdf', 'rb') as pdf_file:\n",
    "with open('hdfc-report.pdf', 'rb') as pdf_file:\n",
    "    extract_text_to_fp(pdf_file, output, laparams=LAParams(), output_type='html', codec=None)\n",
    "raw_html = output.getvalue()\n",
    "print(raw_html)"
   ]
  },
  {
   "cell_type": "code",
   "execution_count": null,
   "id": "2a7895c7",
   "metadata": {},
   "outputs": [],
   "source": [
    "# Extract all DIV tags\n",
    "tree = html.fromstring(raw_html)\n",
    "divs = tree.xpath('.//div')"
   ]
  },
  {
   "cell_type": "code",
   "execution_count": null,
   "id": "edf85ba1",
   "metadata": {},
   "outputs": [],
   "source": [
    "# Sort and filter DIV tags\n",
    "filtered_divs = {'ID': [], 'Qty': []}\n",
    "for div in divs:\n",
    "    # extract styles from a tag\n",
    "    div_style = div.get('style')\n",
    "    # print(div_style)\n",
    "    # position:absolute; border: textbox 1px solid; writing-mode:lr-tb; left:292px; top:1157px; width:27px; height:12px;\n",
    "# get left position\n",
    "    try:\n",
    "        left = re.findall(r'left:([0-9]+)px', div_style)[0]\n",
    "    except IndexError:\n",
    "        continue\n",
    "# div contains ID if div's left position between ID_LEFT_BORDER and ID_RIGHT_BORDER\n",
    "    if ID_LEFT_BORDER < int(left) < ID_RIGHT_BORDER:\n",
    "        filtered_divs['ID'].append(div.text_content().strip('\\n'))\n",
    "# div contains Quantity if div's left position between QTY_LEFT_BORDER and QTY_RIGHT_BORDER\n",
    "    if QTY_LEFT_BORDER < int(left) < QTY_RIGHT_BORDER:\n",
    "        filtered_divs['Qty'].append(div.text_content().strip('\\n'))"
   ]
  },
  {
   "cell_type": "code",
   "execution_count": null,
   "id": "afb37360",
   "metadata": {},
   "outputs": [],
   "source": [
    "# Merge and clear lists with data\n",
    "data = []\n",
    "for row in zip(filtered_divs['ID'], filtered_divs['Qty']):\n",
    "    if 'ID' in row[0]:\n",
    "        continue\n",
    "    data_row = {'ID': row[0].split(' ')[0], 'Quantity': row[1]}\n",
    "    data.append(data_row)\n",
    "pprint(data)"
   ]
  },
  {
   "cell_type": "code",
   "execution_count": null,
   "id": "1a8661a2",
   "metadata": {},
   "outputs": [],
   "source": []
  }
 ],
 "metadata": {
  "kernelspec": {
   "display_name": "Python 3 (ipykernel)",
   "language": "python",
   "name": "python3"
  },
  "language_info": {
   "codemirror_mode": {
    "name": "ipython",
    "version": 3
   },
   "file_extension": ".py",
   "mimetype": "text/x-python",
   "name": "python",
   "nbconvert_exporter": "python",
   "pygments_lexer": "ipython3",
   "version": "3.9.12"
  }
 },
 "nbformat": 4,
 "nbformat_minor": 5
}
